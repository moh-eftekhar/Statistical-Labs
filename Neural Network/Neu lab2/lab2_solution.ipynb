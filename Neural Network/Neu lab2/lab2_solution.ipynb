{
  "nbformat": 4,
  "nbformat_minor": 0,
  "metadata": {
    "colab": {
      "name": "lab2_solution.ipynb",
      "private_outputs": true,
      "provenance": []
    },
    "kernelspec": {
      "name": "python3",
      "display_name": "Python 3"
    },
    "accelerator": "GPU"
  },
  "cells": [
    {
      "cell_type": "markdown",
      "metadata": {
        "id": "AgaqxrCBIHWO"
      },
      "source": [
        "# Transfer learning - Cats vs. Dogs"
      ]
    },
    {
      "cell_type": "markdown",
      "metadata": {
        "id": "WBmnWkSRslRb"
      },
      "source": [
        "Unzip data"
      ]
    },
    {
      "cell_type": "code",
      "metadata": {
        "id": "Aizfyvfms_nt"
      },
      "source": [
        "!unzip train.zip -d train/\n",
        "!unzip test.zip -d test/"
      ],
      "execution_count": null,
      "outputs": []
    },
    {
      "cell_type": "markdown",
      "metadata": {
        "id": "qwPKXzBdsSai"
      },
      "source": [
        "Code to initiliaze Tensorflow 2.0 in Colab"
      ]
    },
    {
      "cell_type": "code",
      "metadata": {
        "id": "4RHeyqF6rev2"
      },
      "source": [
        "from __future__ import absolute_import, division, print_function, unicode_literals\n",
        "%tensorflow_version 2.x\n",
        "import tensorflow as tf\n",
        "%load_ext tensorboard\n",
        "import datetime\n",
        "import numpy as np\n",
        "%matplotlib inline\n",
        "import matplotlib.pyplot as plt"
      ],
      "execution_count": null,
      "outputs": []
    },
    {
      "cell_type": "markdown",
      "metadata": {
        "id": "_9TtiitutEm8"
      },
      "source": [
        "**[TODO] Create a data loader function that returns a tuple with a tf.float32 tensor for the image and a label. Images must be resized to 128x128.**\n",
        "**N.B.: filenames are formatted as class.number.jpg**"
      ]
    },
    {
      "cell_type": "code",
      "metadata": {
        "id": "WlFW9kPUtpys"
      },
      "source": [
        "def loader(filename):\n",
        "  label = tf.strings.to_number(tf.strings.split(tf.strings.split(filename, '.')[0],'/')[-1]) # /content/train/0.47.jpg  --> ['/content/train/0','47','jpg'] ---> ['content','train,'0']\n",
        "  image = tf.io.read_file(filename)\n",
        "  image = tf.image.decode_jpeg(image)\n",
        "  image = tf.image.convert_image_dtype(image, tf.float32)\n",
        "  image = tf.image.resize(image, [128, 128])\n",
        "  return image, label"
      ],
      "execution_count": null,
      "outputs": []
    },
    {
      "cell_type": "markdown",
      "source": [
        ""
      ],
      "metadata": {
        "id": "tWCPQ7IW28Ue"
      }
    },
    {
      "cell_type": "markdown",
      "metadata": {
        "id": "KYbzGd5rcyeN"
      },
      "source": [
        "**[TODO] Create a tf.Dataset, map the loader function and prepare a batch object for training**"
      ]
    },
    {
      "cell_type": "code",
      "metadata": {
        "id": "PvP9ga5RcyB-"
      },
      "source": [
        "img_list = tf.data.Dataset.list_files('/content/train/*')\n",
        "img_dataset = img_list.map(loader).batch(16)"
      ],
      "execution_count": null,
      "outputs": []
    },
    {
      "cell_type": "markdown",
      "metadata": {
        "id": "riIKsGjMK2KT"
      },
      "source": [
        "**Prepare Keras callback for Tensorboard**"
      ]
    },
    {
      "cell_type": "code",
      "metadata": {
        "id": "Grf-GiJFK-sS"
      },
      "source": [
        "logdir = \"logs/scalars/\" + datetime.datetime.now().strftime(\"%Y%m%d-%H%M%S\")\n",
        "%tensorboard --logdir logs\n",
        "tensorboard_callback = tf.keras.callbacks.TensorBoard(log_dir=logdir, update_freq='batch')"
      ],
      "execution_count": null,
      "outputs": []
    },
    {
      "cell_type": "markdown",
      "metadata": {
        "id": "IVlXyF_8xGsW"
      },
      "source": [
        "**[TODO] Import the MobileNetV2 model trained on ImageNet without the final layer**"
      ]
    },
    {
      "cell_type": "code",
      "metadata": {
        "id": "5C6JfgQNxf9P"
      },
      "source": [
        "base_model = tf.keras.applications.MobileNetV2(input_shape=(128,128,3), include_top=False, weights='imagenet')\n",
        "base_model.trainable = False"
      ],
      "execution_count": null,
      "outputs": []
    },
    {
      "cell_type": "markdown",
      "metadata": {
        "id": "7R4fFS0HcX-t"
      },
      "source": [
        "**[TODO] Add a final classification layer for 2 classes and create the final Keras model**"
      ]
    },
    {
      "cell_type": "code",
      "metadata": {
        "id": "GDvBDCVFcXmo"
      },
      "source": [
        "x_in = base_model.input\n",
        "h = base_model(x_in) # (B,H,W,F)\n",
        "y = tf.keras.layers.Flatten()(h) # (B,H*W*F)\n",
        "y = tf.keras.layers.Dense(2, activation='softmax')(y)\n",
        "model = tf.keras.Model(inputs=x_in, outputs=y)"
      ],
      "execution_count": null,
      "outputs": []
    },
    {
      "cell_type": "markdown",
      "metadata": {
        "id": "L5Arv2jyxgSz"
      },
      "source": [
        "**[TODO] Compile the Keras model: specify the optimization algorithm, the loss function and the test metric**"
      ]
    },
    {
      "cell_type": "code",
      "metadata": {
        "id": "JM9_th7SxlmM"
      },
      "source": [
        "model.compile(optimizer=tf.keras.optimizers.Adam(0.0001), loss='sparse_categorical_crossentropy', metrics=['accuracy'])"
      ],
      "execution_count": null,
      "outputs": []
    },
    {
      "cell_type": "markdown",
      "metadata": {
        "id": "wgY8SK7MxmBE"
      },
      "source": [
        "**[TODO] Train the Keras model**"
      ]
    },
    {
      "cell_type": "code",
      "metadata": {
        "id": "H8-x6iwSxqqM"
      },
      "source": [
        "model.fit(img_dataset, epochs=3, callbacks=[tensorboard_callback])"
      ],
      "execution_count": null,
      "outputs": []
    },
    {
      "cell_type": "markdown",
      "metadata": {
        "id": "0QhCHMnVFWv3"
      },
      "source": [
        "**[TODO] Print model summary**"
      ]
    },
    {
      "cell_type": "code",
      "metadata": {
        "id": "VqTgD3xRFaJN"
      },
      "source": [
        "print(model.summary())"
      ],
      "execution_count": null,
      "outputs": []
    },
    {
      "cell_type": "markdown",
      "metadata": {
        "id": "Uva5AeZrxrf0"
      },
      "source": [
        "**[TODO] Test the Keras model by computing the accuracy the whole test set**"
      ]
    },
    {
      "cell_type": "code",
      "metadata": {
        "id": "5536AAv7x1Al"
      },
      "source": [
        "img_test_list = tf.data.Dataset.list_files('/content/test/*')\n",
        "img_test_dataset = img_test_list.map(loader).batch(16)\n",
        "model.evaluate(img_test_dataset)"
      ],
      "execution_count": null,
      "outputs": []
    },
    {
      "cell_type": "markdown",
      "metadata": {
        "id": "eWMWEosqqX1b"
      },
      "source": [
        "**[TODO] Load Test image 'test/0.1047.jpg', visualize it and check the network prediction**"
      ]
    },
    {
      "cell_type": "code",
      "metadata": {
        "id": "OMVCrCxsqkh_"
      },
      "source": [
        "animals = ['cat','dog']\n",
        "img, lab = loader('/content/test/0.1047.jpg') # img: (128,128,3)\n",
        "plt.imshow(img)\n",
        "lab_hat = model.predict(tf.expand_dims(img,0)) # (1,128,128,3)\n",
        "print('This is a %s' % animals[np.argmax(lab_hat)])"
      ],
      "execution_count": null,
      "outputs": []
    },
    {
      "cell_type": "code",
      "source": [
        "print(lab_hat)"
      ],
      "metadata": {
        "id": "yeyhOFaf0MXS"
      },
      "execution_count": null,
      "outputs": []
    }
  ]
}